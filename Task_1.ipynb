{
  "nbformat": 4,
  "nbformat_minor": 0,
  "metadata": {
    "colab": {
      "provenance": [],
      "authorship_tag": "ABX9TyPh5CXoPBslhzyNxUKhoi4T",
      "include_colab_link": true
    },
    "kernelspec": {
      "name": "python3",
      "display_name": "Python 3"
    },
    "language_info": {
      "name": "python"
    }
  },
  "cells": [
    {
      "cell_type": "markdown",
      "metadata": {
        "id": "view-in-github",
        "colab_type": "text"
      },
      "source": [
        "<a href=\"https://colab.research.google.com/github/KhasanovCG/Ai_Midterm/blob/main/Task_1.ipynb\" target=\"_parent\"><img src=\"https://colab.research.google.com/assets/colab-badge.svg\" alt=\"Open In Colab\"/></a>"
      ]
    },
    {
      "cell_type": "code",
      "execution_count": 7,
      "metadata": {
        "id": "bY-oPATnuIFF"
      },
      "outputs": [],
      "source": [
        "import random\n",
        "import numpy as np\n",
        "\n",
        "def generate_sequential_data(num_sequences, sequence_length, failure_probability):\n",
        "    data = []\n",
        "\n",
        "    for _ in range(num_sequences):\n",
        "        sequence = []\n",
        "\n",
        "        for _ in range(sequence_length):\n",
        "            temperature = random.uniform(50, 100)\n",
        "            vibration = random.uniform(0, 1)\n",
        "            belt_speed = random.uniform(0.5, 2.0)\n",
        "\n",
        "            sequence.append([temperature, vibration, belt_speed])\n",
        "\n",
        "        data.append(sequence)\n",
        "\n",
        "    return np.array(data)\n"
      ]
    },
    {
      "cell_type": "code",
      "source": [
        "def generate_sequential_data(num_sequences, sequence_length, failure_probability):\n",
        "    data = []\n",
        "\n",
        "    for _ in range(num_sequences):\n",
        "        sequence = []\n",
        "\n",
        "        for _ in range(sequence_length):\n",
        "            temperature = random.uniform(50, 100)\n",
        "            vibration = random.uniform(0, 1)\n",
        "            belt_speed = random.uniform(0.5, 2.0)\n",
        "\n",
        "            # Introduce a failure event based on probability\n",
        "            if random.random() < failure_probability:\n",
        "                temperature += random.uniform(10, 20)\n",
        "                vibration += random.uniform(0.5, 1.0)\n",
        "                belt_speed -= random.uniform(0.2, 0.5)\n",
        "\n",
        "            sequence.append([temperature, vibration, belt_speed])\n",
        "\n",
        "        data.append(sequence)\n",
        "\n",
        "    return np.array(data)\n"
      ],
      "metadata": {
        "id": "c4YLWGt5uWm8"
      },
      "execution_count": 8,
      "outputs": []
    },
    {
      "cell_type": "code",
      "source": [
        "num_sequences = 100\n",
        "sequence_length = 50\n",
        "\n",
        "# Generate datasets with different failure probabilities\n",
        "data_low_failure = generate_sequential_data(num_sequences, sequence_length, 0.1)\n",
        "data_high_failure = generate_sequential_data(num_sequences, sequence_length, 0.2)\n",
        "\n",
        "# Save datasets to files\n",
        "np.save('data_low_failure.npy', data_low_failure)\n",
        "np.save('data_high_failure.npy', data_high_failure)\n"
      ],
      "metadata": {
        "id": "XyyHc3BeuZ_m"
      },
      "execution_count": 9,
      "outputs": []
    }
  ]
}